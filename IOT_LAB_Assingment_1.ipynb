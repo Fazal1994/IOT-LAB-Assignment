{
  "nbformat": 4,
  "nbformat_minor": 0,
  "metadata": {
    "colab": {
      "name": "IOT LAB Assingment # 1.ipynb",
      "provenance": [],
      "collapsed_sections": []
    },
    "kernelspec": {
      "name": "python3",
      "display_name": "Python 3"
    },
    "language_info": {
      "name": "python"
    }
  },
  "cells": [
    {
      "cell_type": "code",
      "execution_count": 1,
      "metadata": {
        "colab": {
          "base_uri": "https://localhost:8080/"
        },
        "id": "33CjwJfVz0lH",
        "outputId": "fc161ee2-b200-4ec3-8fe8-152a3965a4c8"
      },
      "outputs": [
        {
          "output_type": "stream",
          "name": "stdout",
          "text": [
            "Please Enter any Number: 123456\n",
            "Reverse of entered number is 654321\n"
          ]
        }
      ],
      "source": [
        "#Q1) Write a program to reverse an integer in Python.\n",
        "\n",
        "num = int(input(\"Please Enter any Number: \"))\n",
        "Reverse = 0.\n",
        "while(num > 0):\n",
        "  Reminder = num %10\n",
        "  Reverse = (Reverse *10) + Reminder\n",
        "  num = num //10\n",
        "print(\"Reverse of entered number is\" , int(Reverse))"
      ]
    },
    {
      "cell_type": "code",
      "source": [
        "# Q2) Write a program in Python to check whether an integer is Armstrong number or not.\n",
        "\n",
        "a= list()\n",
        "b = input(\"Enter any Number: \")\n",
        "for i in b:\n",
        "  a.append(i)\n",
        "\n",
        "\n",
        "c = list()\n",
        "for j in range(len(a)):\n",
        "  c.append(int(a[j]))\n",
        "\n",
        "\n",
        "d = list()\n",
        "for k in range(len(c)):\n",
        "  d.append(c[k]**3)\n",
        "\n",
        "\n",
        "\n",
        "\n",
        "if(sum(d) == int(b)):\n",
        "  print(b, \"is an Armstrong Number\")\n",
        "else:\n",
        "  print(b, \"is not an Armstrong Number\")\n",
        "  \n"
      ],
      "metadata": {
        "id": "poSfueBaUUNc",
        "colab": {
          "base_uri": "https://localhost:8080/"
        },
        "outputId": "0b47cbdb-22e4-4225-9e16-bd0b5f8f45e1"
      },
      "execution_count": 2,
      "outputs": [
        {
          "output_type": "stream",
          "name": "stdout",
          "text": [
            "Enter any Number: 513\n",
            "513 is not an Armstrong Number\n"
          ]
        }
      ]
    },
    {
      "cell_type": "code",
      "source": [
        "# Q3) Write a program in Python to check given number is prime or not. \n",
        "\n",
        "num = int(input(\"please give a number: \"))\n",
        "if num>1:\n",
        "  for i in range(2, num):\n",
        "    if (num %i) == 0:\n",
        "      print(num ,\"is not prime number\")\n",
        "  else:\n",
        "    print(num, \"is prime number\") \n",
        "    "
      ],
      "metadata": {
        "colab": {
          "base_uri": "https://localhost:8080/"
        },
        "id": "fna9EK1CWbf6",
        "outputId": "91f1eb72-4235-4c49-c92f-b49100780bea"
      },
      "execution_count": 4,
      "outputs": [
        {
          "output_type": "stream",
          "name": "stdout",
          "text": [
            "please give a number: 5\n",
            "5 is prime number\n"
          ]
        }
      ]
    },
    {
      "cell_type": "code",
      "source": [
        "# Q4) Write a program in Python to print the Fibonacci series using iterative method.\n",
        "\n",
        "a,b=0,1\n",
        "n = int(input(\"Enter any number for Fibonacci series : \"))\n",
        "print(\"Fibonacci series are : \")\n",
        "for i in range(0,n):\n",
        "    if i<=1:\n",
        "      result=i\n",
        "    else:\n",
        "      result = a + b\n",
        "      a = b\n",
        "      b = result\n",
        "    print(result)"
      ],
      "metadata": {
        "colab": {
          "base_uri": "https://localhost:8080/"
        },
        "id": "xiXTPbaRiSz4",
        "outputId": "e6c9fd48-4ad3-4fd4-c794-941a88879c3d"
      },
      "execution_count": 5,
      "outputs": [
        {
          "output_type": "stream",
          "name": "stdout",
          "text": [
            "Enter any number for Fibonacci series : 5\n",
            "Fibonacci series are : \n",
            "0\n",
            "1\n",
            "1\n",
            "2\n",
            "3\n"
          ]
        }
      ]
    },
    {
      "cell_type": "code",
      "source": [
        "# Q5) Write a program in Python to check whether a number is palindrome or not using iterative method. \n",
        "number = int(input(\"Enter any number: \"))\n",
        "reverse,temp = 0, number\n",
        "while temp!= 0:\n",
        "  reverse = reverse*10 + temp%10\n",
        "  temp=temp//10\n",
        "\n",
        "if reverse==number:\n",
        "    print(\"number is palindrom\")\n",
        "else:\n",
        "    print(\"number is not palindrom\")\n",
        "\n",
        "\n"
      ],
      "metadata": {
        "colab": {
          "base_uri": "https://localhost:8080/"
        },
        "id": "U92QxzgnVoIt",
        "outputId": "4a135fda-283c-42fe-d09c-2514173f0fe5"
      },
      "execution_count": 6,
      "outputs": [
        {
          "output_type": "stream",
          "name": "stdout",
          "text": [
            "Enter any number: 12\n",
            "number is not palindrom\n"
          ]
        }
      ]
    },
    {
      "cell_type": "code",
      "source": [
        "#Q6) Write a program in Python to find greatest among three integers.\n",
        "\n",
        "input1 = int(input(\"Enter any number: \"))\n",
        "input2 = int(input(\"Enter any number: \"))\n",
        "input3 = int(input(\"Enter any number: \"))\n",
        "\n",
        "if input1 > input2 and input1 > input3:\n",
        "  print(input1, \"is greater among\", input2 ,\"and\",input3) \n",
        "\n",
        "if input2 > input1 and input2 > input3:\n",
        "  print(input2, \"is greater among\", input1 ,\"and\",input3) \n",
        "  \n",
        "if input3 > input2 and input3 > input1:\n",
        "  print(input3, \"is greater among\",input1 ,\"and\",input2) \n"
      ],
      "metadata": {
        "colab": {
          "base_uri": "https://localhost:8080/"
        },
        "id": "WHhRvX5Y5vMC",
        "outputId": "7928a20c-85ee-449e-dcdc-b3f1a637722b"
      },
      "execution_count": 8,
      "outputs": [
        {
          "output_type": "stream",
          "name": "stdout",
          "text": [
            "Enter any number: 1\n",
            "Enter any number: 3\n",
            "Enter any number: 5\n",
            "5 is greater among 1 and 3\n"
          ]
        }
      ]
    },
    {
      "cell_type": "code",
      "source": [
        "#Q7) Write a program in Python to check if a number is binary?\n",
        "\n",
        "num = input(\"Enter any number:\")\n",
        "\n",
        "a = set(num)\n",
        "\n",
        "b = {'1','0'}\n",
        "\n",
        "if b == a or a == {'0'} or a == {'1'}:\n",
        "  print(\"Given number is binary.\")\n",
        "\n",
        "else:\n",
        "  print(\"Given number is not binary.\")\n"
      ],
      "metadata": {
        "colab": {
          "base_uri": "https://localhost:8080/"
        },
        "id": "jLnJDqKJ8RKn",
        "outputId": "f7b80a11-02d2-4854-9723-d41319e6e489"
      },
      "execution_count": 9,
      "outputs": [
        {
          "output_type": "stream",
          "name": "stdout",
          "text": [
            "Enter any number:10\n",
            "Given number is binary.\n"
          ]
        }
      ]
    },
    {
      "cell_type": "code",
      "source": [
        "#Q8) Write a program in Python to find sum of digits.\n",
        "\n",
        "nums = int(input(\"Enter How many you want to sum: \"))\n",
        "lst = list()\n",
        "\n",
        "\n",
        "for i in range(0, nums):\n",
        "  elements = int(input())\n",
        "  lst.append(elements)\n",
        "print(\"\\nThe Sum of your numbers are : \",sum(lst))"
      ],
      "metadata": {
        "colab": {
          "base_uri": "https://localhost:8080/"
        },
        "id": "CkMwCsavlE8f",
        "outputId": "fa305108-6cb3-4212-c421-6df79299226f"
      },
      "execution_count": 11,
      "outputs": [
        {
          "output_type": "stream",
          "name": "stdout",
          "text": [
            "Enter How many you want to sum: 3\n",
            "23\n",
            "15\n",
            "24\n",
            "\n",
            "The Sum of your numbers are :  62\n"
          ]
        }
      ]
    },
    {
      "cell_type": "code",
      "source": [
        "#Q9) Write a program in Python to swap two numbers without using third variable?\n",
        "\n",
        "a = input(\"Enter value of a: \")\n",
        "b = input(\"Enter value of b: \")\n",
        "\n",
        "print(\"\\n Orignal\")\n",
        "print(\"Value of a:\", a , \"and\" , \"b:\", b)\n",
        "\n",
        "a , b = b , a\n",
        "\n",
        "print(\"\\n Swapped\")\n",
        "print(\"Value of a:\", a , \"and\" , \"b:\", b)\n"
      ],
      "metadata": {
        "colab": {
          "base_uri": "https://localhost:8080/"
        },
        "id": "Di75jr8wAnHb",
        "outputId": "2647bc69-a0a2-4737-8377-dd7a0e9cafb2"
      },
      "execution_count": 13,
      "outputs": [
        {
          "output_type": "stream",
          "name": "stdout",
          "text": [
            "Enter value of a: 12\n",
            "Enter value of b: 6\n",
            "\n",
            " Orignal\n",
            "Value of a: 12 and b: 6\n",
            "\n",
            " Swapped\n",
            "Value of a: 6 and b: 12\n"
          ]
        }
      ]
    },
    {
      "cell_type": "code",
      "source": [
        "#Q10) Write a program in Python to swap two numbers using third variable?\n",
        "\n",
        "a = input(\"Enter value of a: \")\n",
        "b = input(\"Enter value of b: \")\n",
        "\n",
        "print(\"\\nOrignal\")\n",
        "print(\"Value of a:\", a , \"and\" , \"b:\", b)\n",
        "\n",
        "temp = a\n",
        "a = b\n",
        "b = temp\n",
        "\n",
        "\n",
        "print(\"\\nSwapped\")\n",
        "print(\"Value of a:\", a , \"and\" , \"b:\", temp)\n"
      ],
      "metadata": {
        "colab": {
          "base_uri": "https://localhost:8080/"
        },
        "id": "2QuG6HVHDzjQ",
        "outputId": "fe3d5558-e0fd-4c1b-d497-6caa412b4992"
      },
      "execution_count": 15,
      "outputs": [
        {
          "output_type": "stream",
          "name": "stdout",
          "text": [
            "Enter value of a: 12\n",
            "Enter value of b: 6\n",
            "\n",
            "Orignal\n",
            "Value of a: 12 and b: 6\n",
            "\n",
            "Swapped\n",
            "Value of a: 6 and b: 12\n"
          ]
        }
      ]
    },
    {
      "cell_type": "code",
      "source": [
        "#Q11) Python Program to find the Average of numbers.\n",
        "\n",
        "numbers = int(input(\"Enter quantity of numbers: \"))\n",
        "lst = list()\n",
        "\n",
        "\n",
        "for i in range(0, numbers):\n",
        "  elements = int(input())\n",
        "  lst.append(elements)\n",
        "print(\"\\nThe Average of your given numbers are: \",sum(lst) / int(numbers))"
      ],
      "metadata": {
        "colab": {
          "base_uri": "https://localhost:8080/"
        },
        "id": "TLih7SFFFpO2",
        "outputId": "e445e95d-b562-49d1-84df-729a6cc6a4ec"
      },
      "execution_count": 16,
      "outputs": [
        {
          "output_type": "stream",
          "name": "stdout",
          "text": [
            "Enter quantity of numbers: 3\n",
            "12\n",
            "24\n",
            "36\n",
            "\n",
            "The Average of your given numbers are:  24.0\n"
          ]
        }
      ]
    },
    {
      "cell_type": "code",
      "source": [
        "# Q12) Python Program to calculate factorial using iterative method.\n",
        "\n",
        "number = int(input(\"Enter a number: \"))\n",
        "\n",
        "factorial = 1\n",
        "\n",
        "if number < 0:\n",
        "   print(\"Sorry, factorial does not exist for negative numbers\")\n",
        "elif number == 0:\n",
        "   print(\"The factorial of 0 is 1\")\n",
        "else:\n",
        "   for i in range(1,number + 1):\n",
        "       factorial = factorial*i\n",
        "   print(\"The factorial of\",number,\"is\",factorial)"
      ],
      "metadata": {
        "id": "uP-ALmG9Lqow",
        "colab": {
          "base_uri": "https://localhost:8080/"
        },
        "outputId": "3e3bd8e4-9b0d-4109-e9a9-4035fb38193b"
      },
      "execution_count": 17,
      "outputs": [
        {
          "output_type": "stream",
          "name": "stdout",
          "text": [
            "Enter a number: 23\n",
            "The factorial of 23 is 25852016738884976640000\n"
          ]
        }
      ]
    },
    {
      "cell_type": "code",
      "source": [
        "#Q13) Python Program to calculate factorial. \n",
        "\n",
        "number = int(input(\"Enter a number: \"))\n",
        "\n",
        "factorial = 1\n",
        "\n",
        "if number < 0:\n",
        "   print(\"Sorry, factorial does not exist for negative numbers\")\n",
        "elif number == 0:\n",
        "   print(\"The factorial of 0 is 1\")\n",
        "else:\n",
        "   for i in range(1,number + 1):\n",
        "       factorial = factorial*i\n",
        "   print(\"The factorial of\",number,\"is\",factorial)"
      ],
      "metadata": {
        "colab": {
          "base_uri": "https://localhost:8080/"
        },
        "id": "KgtJo11BI7bz",
        "outputId": "78d8efe3-01b8-4486-86b2-7845435dbca9"
      },
      "execution_count": 18,
      "outputs": [
        {
          "output_type": "stream",
          "name": "stdout",
          "text": [
            "Enter a number: 23\n",
            "The factorial of 23 is 25852016738884976640000\n"
          ]
        }
      ]
    },
    {
      "cell_type": "code",
      "source": [
        "#Q14) Python Program to check a given number is even or odd. \n",
        "user_input = int(input(\"Enter a number to check even or odd: \"))\n",
        "\n",
        "if(user_input %2 == 0):\n",
        "  print(user_input, \"is a even number.\")\n",
        "\n",
        "elif(user_input %2 != 0):\n",
        "  print(user_input, \"is a odd number.\")\n",
        "else:\n",
        "  print(\"Please, Enter Correct Value.\")"
      ],
      "metadata": {
        "colab": {
          "base_uri": "https://localhost:8080/"
        },
        "id": "onAnplDvL_Kw",
        "outputId": "28c93bf2-8463-4b99-d838-82775af731f4"
      },
      "execution_count": 19,
      "outputs": [
        {
          "output_type": "stream",
          "name": "stdout",
          "text": [
            "Enter a number to check even or odd: 35\n",
            "35 is a odd number.\n"
          ]
        }
      ]
    },
    {
      "cell_type": "code",
      "source": [
        "#Q15) Python program to print first n Prime Number.\n",
        "\n",
        "\n",
        "numr=int(input(\"Enter range of prime numbers: \"))\n",
        "\n",
        "print(\"Prime numbers:\",end=' ')\n",
        "\n",
        "for n in range(1,numr):\n",
        "    for i in range(2,n):\n",
        "        if(n%i==0):\n",
        "            break\n",
        "    else:\n",
        "        print(n,end=' ')   "
      ],
      "metadata": {
        "id": "DINQDN4SfH_l",
        "colab": {
          "base_uri": "https://localhost:8080/"
        },
        "outputId": "c752752b-c78f-4768-8a8e-35d63a31f161"
      },
      "execution_count": 20,
      "outputs": [
        {
          "output_type": "stream",
          "name": "stdout",
          "text": [
            "Enter range of prime numbers: 5\n",
            "Prime numbers: 1 2 3 "
          ]
        }
      ]
    },
    {
      "cell_type": "code",
      "source": [
        "#Q16) Python Program to print Prime Number in a given range. \n",
        "\n",
        "lower_value = int(input (\"Please, Enter the Lowest Range Value: \"))  \n",
        "upper_value = int(input (\"Please, Enter the Upper Range Value: \"))  \n",
        "  \n",
        "print (\"The Prime Numbers in the range are: \") \n",
        "for number in range (lower_value, upper_value + 1):  \n",
        "    if number > 1:\n",
        "        for i in range (2, number):  \n",
        "            if (number % i) == 0:  \n",
        "                break  \n",
        "        else:  \n",
        "            print (number)  "
      ],
      "metadata": {
        "colab": {
          "base_uri": "https://localhost:8080/"
        },
        "id": "CC_BVO-aQz4q",
        "outputId": "0ca3930b-f52d-4190-b66e-a6356ef7d653"
      },
      "execution_count": 21,
      "outputs": [
        {
          "output_type": "stream",
          "name": "stdout",
          "text": [
            "Please, Enter the Lowest Range Value: 5\n",
            "Please, Enter the Upper Range Value: 21\n",
            "The Prime Numbers in the range are: \n",
            "5\n",
            "7\n",
            "11\n",
            "13\n",
            "17\n",
            "19\n"
          ]
        }
      ]
    },
    {
      "cell_type": "code",
      "source": [
        "#Q17) Python Program to find Smallest number among three. \n",
        "\n",
        "fn = int(input(\"Enter any number: \"))\n",
        "mn = int(input(\"Enter any number: \"))\n",
        "ln = int(input(\"Enter any number: \"))\n",
        "\n",
        "if fn < mn and fn < ln:\n",
        "  print(fn, \"is smallest among\", mn ,\"and\",ln) \n",
        "\n",
        "if mn < fn and mn < ln:\n",
        "  print(mn, \"is smallest among\", fn ,\"and\",ln) \n",
        "  \n",
        "if ln < mn and ln < fn:\n",
        "  print(ln, \"is smallest among\", fn ,\"and\",mn) \n"
      ],
      "metadata": {
        "colab": {
          "base_uri": "https://localhost:8080/"
        },
        "id": "rXjKwMJWOYE1",
        "outputId": "cec00903-2fe2-47fc-c71f-097035b096a9"
      },
      "execution_count": 22,
      "outputs": [
        {
          "output_type": "stream",
          "name": "stdout",
          "text": [
            "Enter any number: 5\n",
            "Enter any number: 9\n",
            "Enter any number: 11\n",
            "5 is smallest among 9 and 11\n"
          ]
        }
      ]
    },
    {
      "cell_type": "code",
      "source": [
        "#Q18) Python program to calculate the power using the POW method.\n",
        "\n",
        "import math\n",
        "\n",
        "base = int(input(\"Enter the value for base: \"))\n",
        "exponent = int(input(\"Enter the value for exponent: \"))\n",
        "print(base ,\"to power\" , exponent , \"is\" ,pow(base,exponent))\n"
      ],
      "metadata": {
        "colab": {
          "base_uri": "https://localhost:8080/"
        },
        "id": "WRSz8xhJPOr9",
        "outputId": "56f8d0d2-6b22-48b8-91b4-72f4af522000"
      },
      "execution_count": 23,
      "outputs": [
        {
          "output_type": "stream",
          "name": "stdout",
          "text": [
            "Enter the value for base: 3\n",
            "Enter the value for exponent: 5\n",
            "3 to power 5 is 243\n"
          ]
        }
      ]
    },
    {
      "cell_type": "code",
      "source": [
        "# Q19) Python Program to calculate the square of a given number.\n",
        "import math \n",
        "\n",
        "number = int(input(\"Enter the value for base: \"))\n",
        "\n",
        "\n",
        "print(\"Square to\" , number , \"is\" , pow(number,2))\n",
        "\n",
        "\n"
      ],
      "metadata": {
        "colab": {
          "base_uri": "https://localhost:8080/"
        },
        "id": "1s0l_g5qRppi",
        "outputId": "3f4ae3ce-0e75-4fe7-c89b-59a3ff2f5226"
      },
      "execution_count": 24,
      "outputs": [
        {
          "output_type": "stream",
          "name": "stdout",
          "text": [
            "Enter the value for base: 5\n",
            "Square to 5 is 25\n"
          ]
        }
      ]
    },
    {
      "cell_type": "code",
      "source": [
        "# Q20) Python Program to calculate the cube of a given number .\n",
        "import math \n",
        "\n",
        "number = int(input(\"Enter the value for base: \"))\n",
        "\n",
        "\n",
        "print(\"Cube to\" , number , \"is\" , pow(number,3))\n"
      ],
      "metadata": {
        "colab": {
          "base_uri": "https://localhost:8080/"
        },
        "id": "B3X17klhjbno",
        "outputId": "2b5d894c-900b-4375-b6b5-4e7441641029"
      },
      "execution_count": null,
      "outputs": [
        {
          "output_type": "stream",
          "name": "stdout",
          "text": [
            "Enter the value for base: 5\n",
            "Cube to 5 is 125\n"
          ]
        }
      ]
    },
    {
      "cell_type": "code",
      "source": [
        "# Q21) Python Program to calculate the square root of a given number. \n",
        "\n",
        "import math \n",
        "\n",
        "number = int(input(\"Enter the value for base: \"))\n",
        "\n",
        "\n",
        "print(\"Square root to\" , number , \"is\" , int(math.sqrt(number)))\n"
      ],
      "metadata": {
        "colab": {
          "base_uri": "https://localhost:8080/"
        },
        "id": "NtvXjdUQjpSx",
        "outputId": "eeb1d911-7095-41e1-f129-1614a946c2ae"
      },
      "execution_count": 25,
      "outputs": [
        {
          "output_type": "stream",
          "name": "stdout",
          "text": [
            "Enter the value for base: 6\n",
            "Square root to 6 is 2\n"
          ]
        }
      ]
    },
    {
      "cell_type": "code",
      "source": [
        "#Q22) Python Program to Convert Decimal Number into Binary.\n",
        "\n",
        "def decimalToBinary(n):\n",
        "    return bin(n).replace(\"0b\", \"\")\n",
        "\n",
        "number = int(input(\"Enter decimal number: \"))\n",
        "\n",
        "print(\"Binary to\", number , \"is\", decimalToBinary(number))\n",
        "\n"
      ],
      "metadata": {
        "colab": {
          "base_uri": "https://localhost:8080/"
        },
        "id": "EFwrFDX0laem",
        "outputId": "d9700b74-32a7-40c7-d145-05e2f906ae38"
      },
      "execution_count": 27,
      "outputs": [
        {
          "output_type": "stream",
          "name": "stdout",
          "text": [
            "Enter decimal number: 10\n",
            "Binary to 10 is 1010\n"
          ]
        }
      ]
    },
    {
      "cell_type": "code",
      "source": [
        "# Q23) Python Program to convert Decimal number to Octal number.\n",
        "\n",
        "number = int(input(\"Enter decimal number: \"))\n",
        "\n",
        "print(\"Octal to\", number , \"is\", oct(number))\n"
      ],
      "metadata": {
        "colab": {
          "base_uri": "https://localhost:8080/"
        },
        "id": "ZAlSZUW5nc4l",
        "outputId": "9d49db06-9a59-4fe8-cf76-55db8aa0da57"
      },
      "execution_count": 29,
      "outputs": [
        {
          "output_type": "stream",
          "name": "stdout",
          "text": [
            "Enter decimal number: 10\n",
            "Octal to 10 is 0o12\n"
          ]
        }
      ]
    },
    {
      "cell_type": "code",
      "source": [
        "# Q24) Python Program to check the given year is a leap year or not. \n",
        "\n",
        "year = int(input(\"Enter a year: \"))\n",
        "\n",
        "if((year % 400 == 0) or (year % 100 != 0) and  (year % 4 == 0)):   \n",
        "    print(\"Year\", year ,\"is a leap Year\");  \n",
        "  # Else it is not a leap year  \n",
        "else:  \n",
        "    print (\"Year\", year ,\"is not a leap Year\")  "
      ],
      "metadata": {
        "colab": {
          "base_uri": "https://localhost:8080/"
        },
        "id": "f5-X72v9oPr_",
        "outputId": "14b2b3a2-68f7-4e4c-bdc2-fa19258ef052"
      },
      "execution_count": 30,
      "outputs": [
        {
          "output_type": "stream",
          "name": "stdout",
          "text": [
            "Enter a year: 1968\n",
            "Year 1968 is a leap Year\n"
          ]
        }
      ]
    },
    {
      "cell_type": "code",
      "source": [
        "#Q25) Python Program to convert Celsius to Fahrenheit. \n",
        "\n",
        "temp = float(input(\"Enter temperature value in celcius: \"))\n",
        "\n",
        "fahrenheit = (temp * 1.8) + 32\n",
        "\n",
        "print(temp, \"celcius is equivalent to\", fahrenheit, \"fahrenheit.\")\n"
      ],
      "metadata": {
        "colab": {
          "base_uri": "https://localhost:8080/"
        },
        "id": "ce8hRq16pYk6",
        "outputId": "00048eb2-a39f-4119-8fe1-43abb6f6b8cb"
      },
      "execution_count": 31,
      "outputs": [
        {
          "output_type": "stream",
          "name": "stdout",
          "text": [
            "Enter temperature value in celcius: 42\n",
            "42.0 celcius is equivalent to 107.60000000000001 fahrenheit.\n"
          ]
        }
      ]
    },
    {
      "cell_type": "code",
      "source": [
        "#Q26) Python Program to convert Fahrenheit to Celsius.\n",
        "\n",
        "temp = float(input(\"Enter temperature value in fahrenheit: \"))\n",
        "\n",
        "celsius = (temp - 32) * 5/9\n",
        "\n",
        "print(temp, \"fahrenheit is equivalent to\", celsius, \"celsius.\")\n"
      ],
      "metadata": {
        "colab": {
          "base_uri": "https://localhost:8080/"
        },
        "id": "dt0Gxq63qoPl",
        "outputId": "b71e93e0-198d-44fb-aec4-128590f75af6"
      },
      "execution_count": 32,
      "outputs": [
        {
          "output_type": "stream",
          "name": "stdout",
          "text": [
            "Enter temperature value in fahrenheit: 43\n",
            "43.0 fahrenheit is equivalent to 6.111111111111111 celsius.\n"
          ]
        }
      ]
    }
  ]
}